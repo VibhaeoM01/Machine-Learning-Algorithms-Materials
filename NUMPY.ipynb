{
  "nbformat": 4,
  "nbformat_minor": 0,
  "metadata": {
    "colab": {
      "provenance": [],
      "authorship_tag": "ABX9TyMImr5IXs9PX/HlHfh1bPDu",
      "include_colab_link": true
    },
    "kernelspec": {
      "name": "python3",
      "display_name": "Python 3"
    },
    "language_info": {
      "name": "python"
    }
  },
  "cells": [
    {
      "cell_type": "markdown",
      "metadata": {
        "id": "view-in-github",
        "colab_type": "text"
      },
      "source": [
        "<a href=\"https://colab.research.google.com/github/VibhaeoM01/Machine-Learning-Algorithms-Materials/blob/main/NUMPY.ipynb\" target=\"_parent\"><img src=\"https://colab.research.google.com/assets/colab-badge.svg\" alt=\"Open In Colab\"/></a>"
      ]
    },
    {
      "cell_type": "markdown",
      "source": [
        "NumPy"
      ],
      "metadata": {
        "id": "ZINvCTob_-ip"
      }
    },
    {
      "cell_type": "code",
      "execution_count": 1,
      "metadata": {
        "id": "hTcrMBD1r0ii"
      },
      "outputs": [],
      "source": [
        "import numpy as np"
      ]
    },
    {
      "cell_type": "code",
      "source": [
        " arr=np.array([1,2,3,4,5])\n",
        " print(arr)\n",
        " print(type(arr))"
      ],
      "metadata": {
        "colab": {
          "base_uri": "https://localhost:8080/"
        },
        "id": "6GV2lU3Y_95c",
        "outputId": "9a94ee95-e2f0-42cb-9fc0-2fa6230d6b2c"
      },
      "execution_count": 4,
      "outputs": [
        {
          "output_type": "stream",
          "name": "stdout",
          "text": [
            "[1 2 3 4 5]\n",
            "<class 'numpy.ndarray'>\n"
          ]
        }
      ]
    },
    {
      "cell_type": "code",
      "source": [
        "arr=np.array((1,2,3,4))\n",
        "print(arr)\n",
        "print(type(arr))"
      ],
      "metadata": {
        "colab": {
          "base_uri": "https://localhost:8080/"
        },
        "id": "k5FqPx7NCZtp",
        "outputId": "7c086a59-84ef-47ee-925e-6f650645b9ca"
      },
      "execution_count": 5,
      "outputs": [
        {
          "output_type": "stream",
          "name": "stdout",
          "text": [
            "[1 2 3 4]\n",
            "<class 'numpy.ndarray'>\n"
          ]
        }
      ]
    },
    {
      "cell_type": "code",
      "source": [
        "# 0d\n",
        "arr=np.array(42)\n",
        "print(arr)"
      ],
      "metadata": {
        "colab": {
          "base_uri": "https://localhost:8080/"
        },
        "id": "_bI76KE0CwzV",
        "outputId": "7aa09882-8c04-45db-e681-4df3f4b10f06"
      },
      "execution_count": 8,
      "outputs": [
        {
          "output_type": "stream",
          "name": "stdout",
          "text": [
            "42\n"
          ]
        }
      ]
    },
    {
      "cell_type": "code",
      "source": [
        "# 1d\n",
        "\n",
        "arr=np.array([1,2,3,4,5])\n",
        "print(arr)\n",
        "arr.shape"
      ],
      "metadata": {
        "colab": {
          "base_uri": "https://localhost:8080/"
        },
        "id": "h0VZLFfcDEOO",
        "outputId": "29d8924c-7798-498d-a347-9688ab4ca0ad"
      },
      "execution_count": 17,
      "outputs": [
        {
          "output_type": "stream",
          "name": "stdout",
          "text": [
            "[1 2 3 4 5]\n"
          ]
        },
        {
          "output_type": "execute_result",
          "data": {
            "text/plain": [
              "(5,)"
            ]
          },
          "metadata": {},
          "execution_count": 17
        }
      ]
    },
    {
      "cell_type": "code",
      "source": [
        "#2d\n",
        "arr=np.array([[1,2,3,4],[5,6,7,8]],dtype=float)\n",
        "print(arr)\n",
        "arr.shape"
      ],
      "metadata": {
        "colab": {
          "base_uri": "https://localhost:8080/"
        },
        "id": "jA9ciCRxDRlY",
        "outputId": "56ab63ff-cd03-46b3-848a-96c0078fb605"
      },
      "execution_count": 19,
      "outputs": [
        {
          "output_type": "stream",
          "name": "stdout",
          "text": [
            "[[1. 2. 3. 4.]\n",
            " [5. 6. 7. 8.]]\n"
          ]
        },
        {
          "output_type": "execute_result",
          "data": {
            "text/plain": [
              "(2, 4)"
            ]
          },
          "metadata": {},
          "execution_count": 19
        }
      ]
    },
    {
      "cell_type": "markdown",
      "source": [
        "Initial placeholders in numpy array"
      ],
      "metadata": {
        "id": "_6NbT8zFFALZ"
      }
    },
    {
      "cell_type": "code",
      "source": [
        "#all values as 0\n",
        "x=np.zeros((4,5))\n",
        "x"
      ],
      "metadata": {
        "colab": {
          "base_uri": "https://localhost:8080/"
        },
        "id": "bAFzU2LlE_yd",
        "outputId": "098cc128-254c-4806-a44f-f70a2e1aa930"
      },
      "execution_count": 22,
      "outputs": [
        {
          "output_type": "execute_result",
          "data": {
            "text/plain": [
              "array([[0., 0., 0., 0., 0.],\n",
              "       [0., 0., 0., 0., 0.],\n",
              "       [0., 0., 0., 0., 0.],\n",
              "       [0., 0., 0., 0., 0.]])"
            ]
          },
          "metadata": {},
          "execution_count": 22
        }
      ]
    },
    {
      "cell_type": "code",
      "source": [
        "#all values as 1\n",
        "y=np.ones((2,3))\n",
        "print(y)"
      ],
      "metadata": {
        "colab": {
          "base_uri": "https://localhost:8080/"
        },
        "id": "9QeHZf-LFWzL",
        "outputId": "9584c7d5-a41d-4236-b132-9a9cf10e786f"
      },
      "execution_count": 24,
      "outputs": [
        {
          "output_type": "stream",
          "name": "stdout",
          "text": [
            "[[1. 1. 1.]\n",
            " [1. 1. 1.]]\n"
          ]
        }
      ]
    },
    {
      "cell_type": "code",
      "source": [
        "#particaluar value\n",
        "z=np.full((4,5),5)\n",
        "print(z)"
      ],
      "metadata": {
        "colab": {
          "base_uri": "https://localhost:8080/"
        },
        "id": "TfH4AJlBFs0O",
        "outputId": "e0b15ab3-f965-4447-c82d-801e86608c44"
      },
      "execution_count": 25,
      "outputs": [
        {
          "output_type": "stream",
          "name": "stdout",
          "text": [
            "[[5 5 5 5 5]\n",
            " [5 5 5 5 5]\n",
            " [5 5 5 5 5]\n",
            " [5 5 5 5 5]]\n"
          ]
        }
      ]
    },
    {
      "cell_type": "code",
      "source": [
        "#identity matrix\n",
        "a=np.eye(4)\n",
        "print(a)"
      ],
      "metadata": {
        "colab": {
          "base_uri": "https://localhost:8080/"
        },
        "id": "i7Xu4U_ZF48a",
        "outputId": "58ce7f6c-9f6c-4c6d-e29b-8d3e0210ee17"
      },
      "execution_count": 27,
      "outputs": [
        {
          "output_type": "stream",
          "name": "stdout",
          "text": [
            "[[1. 0. 0. 0.]\n",
            " [0. 1. 0. 0.]\n",
            " [0. 0. 1. 0.]\n",
            " [0. 0. 0. 1.]]\n"
          ]
        }
      ]
    },
    {
      "cell_type": "code",
      "source": [
        "#random values\n",
        "b=np.random.random((3,4))   #values between 0 to 1\n",
        "print(b)\n",
        "\n",
        "c=np.random.randint(10,100,(2,4))   #values between 10 to 100 as specified\n",
        "print(c)"
      ],
      "metadata": {
        "colab": {
          "base_uri": "https://localhost:8080/"
        },
        "id": "N46ElynkGXBa",
        "outputId": "7e994b66-d5d9-4a4a-b9f6-f462b58ce045"
      },
      "execution_count": 28,
      "outputs": [
        {
          "output_type": "stream",
          "name": "stdout",
          "text": [
            "[[0.20856737 0.25979239 0.9467078  0.60348605]\n",
            " [0.71478295 0.3513002  0.50235294 0.49435617]\n",
            " [0.37374409 0.0538626  0.68505035 0.46008217]]\n",
            "[[85 63 25 12]\n",
            " [49 92 18 99]]\n"
          ]
        }
      ]
    },
    {
      "cell_type": "code",
      "source": [
        "#array of evenly space values\n",
        "d=np.linspace(10,40,7)       #7 values between 10 to 40 which are evenly spaced\n",
        "print(d)"
      ],
      "metadata": {
        "colab": {
          "base_uri": "https://localhost:8080/"
        },
        "id": "3YHA4TXfHLJJ",
        "outputId": "ed82313a-897f-43c7-dff1-21fda50cbf18"
      },
      "execution_count": 31,
      "outputs": [
        {
          "output_type": "stream",
          "name": "stdout",
          "text": [
            "[10. 15. 20. 25. 30. 35. 40.]\n"
          ]
        }
      ]
    },
    {
      "cell_type": "code",
      "source": [
        "#evenly space with step specified\n",
        "e=np.arange(10,40,5)   # 5 as step size\n",
        "print(e)"
      ],
      "metadata": {
        "colab": {
          "base_uri": "https://localhost:8080/"
        },
        "id": "w51NaXnxHvI2",
        "outputId": "9ae7dd6a-6b27-4668-8319-c9173b93822c"
      },
      "execution_count": 32,
      "outputs": [
        {
          "output_type": "stream",
          "name": "stdout",
          "text": [
            "[10 15 20 25 30 35]\n"
          ]
        }
      ]
    },
    {
      "cell_type": "code",
      "source": [
        "#convert list to array\n",
        "list1=[5,7,8,9]\n",
        "\n",
        "np_array=np.array(list1)\n",
        "print(np_array)\n",
        "type(np_array)"
      ],
      "metadata": {
        "colab": {
          "base_uri": "https://localhost:8080/"
        },
        "id": "qjEgJ9PWKUKA",
        "outputId": "0a11a5af-d52c-4919-e8bb-76f0dba9fb4e"
      },
      "execution_count": 34,
      "outputs": [
        {
          "output_type": "stream",
          "name": "stdout",
          "text": [
            "[5 7 8 9]\n"
          ]
        },
        {
          "output_type": "execute_result",
          "data": {
            "text/plain": [
              "numpy.ndarray"
            ]
          },
          "metadata": {},
          "execution_count": 34
        }
      ]
    },
    {
      "cell_type": "code",
      "source": [
        "#number of dim\n",
        "c.ndim"
      ],
      "metadata": {
        "colab": {
          "base_uri": "https://localhost:8080/"
        },
        "id": "FRQVFLwhY2Yp",
        "outputId": "c52d1ffe-70f8-40aa-a87f-93017ab0916a"
      },
      "execution_count": 35,
      "outputs": [
        {
          "output_type": "execute_result",
          "data": {
            "text/plain": [
              "2"
            ]
          },
          "metadata": {},
          "execution_count": 35
        }
      ]
    },
    {
      "cell_type": "code",
      "source": [
        "#no. of ele\n",
        "c.size"
      ],
      "metadata": {
        "colab": {
          "base_uri": "https://localhost:8080/"
        },
        "id": "ZfUNqzfHZKNG",
        "outputId": "c7078da4-6361-4973-8984-d7cb77421a40"
      },
      "execution_count": 36,
      "outputs": [
        {
          "output_type": "execute_result",
          "data": {
            "text/plain": [
              "8"
            ]
          },
          "metadata": {},
          "execution_count": 36
        }
      ]
    },
    {
      "cell_type": "code",
      "source": [
        "#dtype in array\n",
        "c.dtype"
      ],
      "metadata": {
        "colab": {
          "base_uri": "https://localhost:8080/"
        },
        "id": "KJlOuhJ4ZNi2",
        "outputId": "51637cb7-c91d-4fe6-bd63-b556f4a49037"
      },
      "execution_count": 37,
      "outputs": [
        {
          "output_type": "execute_result",
          "data": {
            "text/plain": [
              "dtype('int64')"
            ]
          },
          "metadata": {},
          "execution_count": 37
        }
      ]
    },
    {
      "cell_type": "markdown",
      "source": [],
      "metadata": {
        "id": "7RzWBarOCTCt"
      }
    },
    {
      "cell_type": "markdown",
      "source": [
        "MATHEMATICAL OP. ON NP ARRAY"
      ],
      "metadata": {
        "id": "deCdF2wSZYOU"
      }
    },
    {
      "cell_type": "code",
      "source": [
        "list1=[1,2,3,4]\n",
        "list2=[6,7,8,9]\n",
        "list3=list1+list2  #joins 2 list\n",
        "print(list3)"
      ],
      "metadata": {
        "colab": {
          "base_uri": "https://localhost:8080/"
        },
        "id": "oUGNyNsNZab9",
        "outputId": "384a368e-8ae9-4ca1-8125-631ed11c7f2c"
      },
      "execution_count": 38,
      "outputs": [
        {
          "output_type": "stream",
          "name": "stdout",
          "text": [
            "[1, 2, 3, 4, 6, 7, 8, 9]\n"
          ]
        }
      ]
    },
    {
      "cell_type": "code",
      "source": [
        "a1=np.array((1,2,3,4))\n",
        "a2=np.array((6,7,8,9))\n",
        "print(a1+a2)"
      ],
      "metadata": {
        "colab": {
          "base_uri": "https://localhost:8080/"
        },
        "id": "k0lMTf_OZj5T",
        "outputId": "7a52fb92-ae33-424e-f452-a0333fa55924"
      },
      "execution_count": 40,
      "outputs": [
        {
          "output_type": "stream",
          "name": "stdout",
          "text": [
            "[ 7  9 11 13]\n"
          ]
        }
      ]
    },
    {
      "cell_type": "code",
      "source": [
        "a=np.random.randint(1,10,(5,5))\n",
        "b=np.random.randint(1,10,(5,5))\n",
        "print(a)\n",
        "print(b)\n",
        "print(np.add(a,b))     #print(a+b)\n",
        "print(np.subtract(a,b))   #print(a-b)\n",
        "print(np.multiply(a,b))   #print(a*b)\n",
        "print(np.divide(a,b))    #print(a/b)"
      ],
      "metadata": {
        "colab": {
          "base_uri": "https://localhost:8080/"
        },
        "id": "HH5envmzZzH3",
        "outputId": "1c1d798a-9130-462c-b7c4-0a9181dd96dc"
      },
      "execution_count": 49,
      "outputs": [
        {
          "output_type": "stream",
          "name": "stdout",
          "text": [
            "[[4 6 7 4 7]\n",
            " [4 7 3 1 7]\n",
            " [9 5 6 2 4]\n",
            " [1 1 9 1 7]\n",
            " [1 6 8 3 2]]\n",
            "[[9 2 9 3 5]\n",
            " [8 2 7 2 7]\n",
            " [9 2 2 7 6]\n",
            " [7 5 6 8 5]\n",
            " [7 2 3 5 3]]\n",
            "[[13  8 16  7 12]\n",
            " [12  9 10  3 14]\n",
            " [18  7  8  9 10]\n",
            " [ 8  6 15  9 12]\n",
            " [ 8  8 11  8  5]]\n",
            "[[-5  4 -2  1  2]\n",
            " [-4  5 -4 -1  0]\n",
            " [ 0  3  4 -5 -2]\n",
            " [-6 -4  3 -7  2]\n",
            " [-6  4  5 -2 -1]]\n",
            "[[36 12 63 12 35]\n",
            " [32 14 21  2 49]\n",
            " [81 10 12 14 24]\n",
            " [ 7  5 54  8 35]\n",
            " [ 7 12 24 15  6]]\n",
            "[[0.44444444 3.         0.77777778 1.33333333 1.4       ]\n",
            " [0.5        3.5        0.42857143 0.5        1.        ]\n",
            " [1.         2.5        3.         0.28571429 0.66666667]\n",
            " [0.14285714 0.2        1.5        0.125      1.4       ]\n",
            " [0.14285714 3.         2.66666667 0.6        0.66666667]]\n"
          ]
        }
      ]
    },
    {
      "cell_type": "markdown",
      "source": [
        "ARRAY MANIPULATION"
      ],
      "metadata": {
        "id": "vvtC45WtbVHB"
      }
    },
    {
      "cell_type": "code",
      "source": [
        "array=np.random.randint(0,10,(2,3))\n",
        "print(array)\n",
        "print(array.shape)"
      ],
      "metadata": {
        "colab": {
          "base_uri": "https://localhost:8080/"
        },
        "id": "Pii0a3ibaFse",
        "outputId": "ca0a11b5-a3ec-46bc-a1a3-ecbceef29d16"
      },
      "execution_count": 50,
      "outputs": [
        {
          "output_type": "stream",
          "name": "stdout",
          "text": [
            "[[6 8 1]\n",
            " [4 1 1]]\n",
            "(2, 3)\n"
          ]
        }
      ]
    },
    {
      "cell_type": "code",
      "source": [
        "#transpose\n",
        "trans=np.transpose(array)\n",
        "print(trans)\n",
        "trans.shape"
      ],
      "metadata": {
        "colab": {
          "base_uri": "https://localhost:8080/"
        },
        "id": "kogY4hjGbelZ",
        "outputId": "5ddc1daa-65af-48d4-ee5b-e6ec04df4a62"
      },
      "execution_count": 53,
      "outputs": [
        {
          "output_type": "stream",
          "name": "stdout",
          "text": [
            "[[6 4]\n",
            " [8 1]\n",
            " [1 1]]\n"
          ]
        },
        {
          "output_type": "execute_result",
          "data": {
            "text/plain": [
              "(3, 2)"
            ]
          },
          "metadata": {},
          "execution_count": 53
        }
      ]
    },
    {
      "cell_type": "code",
      "source": [
        "#reshaping\n",
        "a=np.random.randint(1,10,(2,3))\n",
        "print(a)\n",
        "print(a.shape)"
      ],
      "metadata": {
        "colab": {
          "base_uri": "https://localhost:8080/"
        },
        "id": "TB7P6gwgbj8P",
        "outputId": "ba32ee79-f4cf-4f24-a695-2c3f898d9028"
      },
      "execution_count": 56,
      "outputs": [
        {
          "output_type": "stream",
          "name": "stdout",
          "text": [
            "[[1 2 7]\n",
            " [8 1 3]]\n",
            "(2, 3)\n"
          ]
        }
      ]
    },
    {
      "cell_type": "code",
      "source": [
        "b=a.reshape(3,2)\n",
        "\n",
        "print(b)\n",
        "print(b.shape)"
      ],
      "metadata": {
        "colab": {
          "base_uri": "https://localhost:8080/"
        },
        "id": "97Xm26TBcHze",
        "outputId": "2bdb2af2-fcda-47f5-8c70-8ff75147cac1"
      },
      "execution_count": 59,
      "outputs": [
        {
          "output_type": "stream",
          "name": "stdout",
          "text": [
            "[[1 2]\n",
            " [7 8]\n",
            " [1 3]]\n",
            "(3, 2)\n"
          ]
        }
      ]
    },
    {
      "cell_type": "code",
      "source": [],
      "metadata": {
        "id": "wYe-e4yFcSpg"
      },
      "execution_count": null,
      "outputs": []
    }
  ]
}